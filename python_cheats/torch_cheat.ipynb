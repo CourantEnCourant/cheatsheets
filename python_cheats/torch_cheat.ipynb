{
 "cells": [
  {
   "cell_type": "code",
   "id": "initial_id",
   "metadata": {
    "collapsed": true,
    "ExecuteTime": {
     "end_time": "2025-06-23T12:58:24.716509Z",
     "start_time": "2025-06-23T12:58:23.958714Z"
    }
   },
   "source": "import torch",
   "outputs": [],
   "execution_count": 1
  },
  {
   "metadata": {
    "ExecuteTime": {
     "end_time": "2025-06-23T12:58:26.002746Z",
     "start_time": "2025-06-23T12:58:25.985723Z"
    }
   },
   "cell_type": "code",
   "source": [
    "# -------------------------------\n",
    "# Tensor Equality Check Example\n",
    "# -------------------------------\n",
    "\n",
    "T1 = torch.tensor([1., 2.])\n",
    "T2 = torch.tensor([1., 2.])\n",
    "\n",
    "are_equal = torch.allclose(T1, T2)\n",
    "print(\"Tensors are equal:\", are_equal)"
   ],
   "id": "13c5ca64ba7337d9",
   "outputs": [
    {
     "name": "stdout",
     "output_type": "stream",
     "text": [
      "Tensors are equal: True\n"
     ]
    }
   ],
   "execution_count": 2
  },
  {
   "metadata": {
    "ExecuteTime": {
     "end_time": "2025-06-23T12:58:34.623009Z",
     "start_time": "2025-06-23T12:58:34.617607Z"
    }
   },
   "cell_type": "code",
   "source": [
    "# -------------------------------\n",
    "# Lower Triangular Matrix Example\n",
    "# -------------------------------\n",
    "\n",
    "matrix = torch.tril(torch.ones(3, 3))\n",
    "print(\"Lower triangular matrix:\\n\", matrix)"
   ],
   "id": "172c9ba8b38ede2c",
   "outputs": [
    {
     "name": "stdout",
     "output_type": "stream",
     "text": [
      "Lower triangular matrix:\n",
      " tensor([[1., 0., 0.],\n",
      "        [1., 1., 0.],\n",
      "        [1., 1., 1.]])\n"
     ]
    }
   ],
   "execution_count": 3
  },
  {
   "metadata": {
    "ExecuteTime": {
     "end_time": "2025-06-23T13:21:31.146050Z",
     "start_time": "2025-06-23T13:21:31.139922Z"
    }
   },
   "cell_type": "code",
   "source": [
    "# -------------------------------\n",
    "# Masked Fill Example (Attention Mask)\n",
    "# -------------------------------\n",
    "\n",
    "import torch.nn.functional as F\n",
    "\n",
    "T = 5  # context length\n",
    "tril = torch.tril(torch.ones(T, T))\n",
    "\n",
    "wei = torch.zeros(T, T)\n",
    "wei = wei.masked_fill(tril == 0, float('-inf'))\n",
    "print(\"Masked weights (before softmax):\\n\", wei)\n",
    "\n",
    "wei = F.softmax(wei, dim=-1)\n",
    "print(\"Weights after softmax:\\n\", wei)"
   ],
   "id": "77a8b20eed5d8949",
   "outputs": [
    {
     "name": "stdout",
     "output_type": "stream",
     "text": [
      "Masked weights (before softmax):\n",
      " tensor([[0., -inf, -inf, -inf, -inf],\n",
      "        [0., 0., -inf, -inf, -inf],\n",
      "        [0., 0., 0., -inf, -inf],\n",
      "        [0., 0., 0., 0., -inf],\n",
      "        [0., 0., 0., 0., 0.]])\n",
      "Weights after softmax:\n",
      " tensor([[1.0000, 0.0000, 0.0000, 0.0000, 0.0000],\n",
      "        [0.5000, 0.5000, 0.0000, 0.0000, 0.0000],\n",
      "        [0.3333, 0.3333, 0.3333, 0.0000, 0.0000],\n",
      "        [0.2500, 0.2500, 0.2500, 0.2500, 0.0000],\n",
      "        [0.2000, 0.2000, 0.2000, 0.2000, 0.2000]])\n"
     ]
    }
   ],
   "execution_count": 6
  },
  {
   "metadata": {
    "ExecuteTime": {
     "end_time": "2025-06-23T13:21:54.463555Z",
     "start_time": "2025-06-23T13:21:54.456582Z"
    }
   },
   "cell_type": "code",
   "source": [
    "# -------------------------------\n",
    "# Register Buffer Example\n",
    "# -------------------------------\n",
    "\n",
    "class MyModule(torch.nn.Module):\n",
    "    def __init__(self):\n",
    "        super().__init__()\n",
    "        # buffer is saved and moved with the model but not trained\n",
    "        self.register_buffer(\"mask\", torch.tril(torch.ones(4, 4)))\n",
    "\n",
    "    def forward(self, x):\n",
    "        print(\"Inside forward, buffer mask:\\n\", self.mask)\n",
    "        return x\n",
    "\n",
    "m = MyModule()\n",
    "print(\"Registered buffer:\\n\", m.mask)\n",
    "\n",
    "# simulate moving to device\n",
    "m.to(\"cpu\")\n",
    "print(\"Buffer on CPU:\\n\", m.mask.device)\n",
    "\n",
    "# show up in state_dict\n",
    "print(\"Buffer in state_dict:\\n\", m.state_dict()[\"mask\"])\n"
   ],
   "id": "9738e9799bc2d989",
   "outputs": [
    {
     "name": "stdout",
     "output_type": "stream",
     "text": [
      "Registered buffer:\n",
      " tensor([[1., 0., 0., 0.],\n",
      "        [1., 1., 0., 0.],\n",
      "        [1., 1., 1., 0.],\n",
      "        [1., 1., 1., 1.]])\n",
      "Buffer on CPU:\n",
      " cpu\n",
      "Buffer in state_dict:\n",
      " tensor([[1., 0., 0., 0.],\n",
      "        [1., 1., 0., 0.],\n",
      "        [1., 1., 1., 0.],\n",
      "        [1., 1., 1., 1.]])\n"
     ]
    }
   ],
   "execution_count": 7
  },
  {
   "metadata": {},
   "cell_type": "code",
   "outputs": [],
   "execution_count": null,
   "source": "",
   "id": "e3e615f322fe6bea"
  }
 ],
 "metadata": {
  "kernelspec": {
   "display_name": "Python 3",
   "language": "python",
   "name": "python3"
  },
  "language_info": {
   "codemirror_mode": {
    "name": "ipython",
    "version": 2
   },
   "file_extension": ".py",
   "mimetype": "text/x-python",
   "name": "python",
   "nbconvert_exporter": "python",
   "pygments_lexer": "ipython2",
   "version": "2.7.6"
  }
 },
 "nbformat": 4,
 "nbformat_minor": 5
}
